{
 "cells": [
  {
   "cell_type": "markdown",
   "id": "0a7c8a78",
   "metadata": {},
   "source": [
    "# Hands_on7: Machine_Learning - Classification\n",
    "\n",
    "*Note: This session is graded (binary grading \"Complete/Incomplete\"). Complete all the exercises and submit the ipynb to canvas under assignment Hands-on7: Machine Learning\n",
    "\n",
    "Lab5 by **Thursday (tomorrow) (03/01), 11:59 PM**\n",
    "\n"
   ]
  },
  {
   "cell_type": "markdown",
   "id": "3bf7620f",
   "metadata": {},
   "source": [
    "## 0. The Diabetes Dataset\n",
    "Take a look at the dataset here: https://www.kaggle.com/datasets/mathchi/diabetes-data-set\n",
    "\n",
    "Description from the website:\n",
    "\n",
    "\"This dataset is originally from the National Institute of Diabetes and Digestive and Kidney Diseases. The objective is to predict based on diagnostic measurements whether a patient has diabetes.\"\n",
    "\n",
    "Read the description (\"Content\" section) from the website. As per the website, the columns of the datasets are:\n",
    "\n",
    "- Pregnancies: Number of times pregnant\n",
    "- Glucose: Plasma glucose concentration a 2 hours in an oral glucose tolerance test\n",
    "- BloodPressure: Diastolic blood pressure (mm Hg)\n",
    "- SkinThickness: Triceps skin fold thickness (mm)\n",
    "- Insulin: 2-Hour serum insulin (mu U/ml)\n",
    "- BMI: Body mass index (weight in kg/(height in m)^2)\n",
    "- DiabetesPedigreeFunction: Diabetes pedigree function\n",
    "- Age: Age (years)\n",
    "- Outcome: Class variable (0 or 1)\n",
    "\n",
    "### Today's Task:\n",
    "**To build classification models than can predict whether the person will have diabetes or not (i.e., Outcome) based on the inputs.**\n",
    "\n",
    "I have split the data into two:\n",
    "\n",
    "1. **train.csv** This is to train our machine learning classifiers.\n",
    "2. **test.csv** This will be used to evaluate our classifiers' performance.\n",
    "\n",
    "Download these two files from **Canvas->Files->Week8->train.csv** and **Canvas->Files->Week8->test.csv**\n",
    "\n",
    "**VVIMP: PUT THESE TWO FILES IN THE SAME DIRECTORY AS THIS NOTEBOOK TO AVOID FILENOTFOUND ERROR**"
   ]
  },
  {
   "cell_type": "markdown",
   "id": "1ab03d7c",
   "metadata": {},
   "source": [
    "## 1. Load and Preprocess Data\n",
    "Let's load the data into a Pandas DataFrame. Check and remove duplicates. Check and clean rows with NULL entries. "
   ]
  },
  {
   "cell_type": "code",
   "execution_count": 7,
   "id": "4e41c548",
   "metadata": {},
   "outputs": [
    {
     "data": {
      "text/html": [
       "<div>\n",
       "<style scoped>\n",
       "    .dataframe tbody tr th:only-of-type {\n",
       "        vertical-align: middle;\n",
       "    }\n",
       "\n",
       "    .dataframe tbody tr th {\n",
       "        vertical-align: top;\n",
       "    }\n",
       "\n",
       "    .dataframe thead th {\n",
       "        text-align: right;\n",
       "    }\n",
       "</style>\n",
       "<table border=\"1\" class=\"dataframe\">\n",
       "  <thead>\n",
       "    <tr style=\"text-align: right;\">\n",
       "      <th></th>\n",
       "      <th>Unnamed: 0</th>\n",
       "      <th>Pregnancies</th>\n",
       "      <th>Glucose</th>\n",
       "      <th>BloodPressure</th>\n",
       "      <th>SkinThickness</th>\n",
       "      <th>Insulin</th>\n",
       "      <th>BMI</th>\n",
       "      <th>DiabetesPedigreeFunction</th>\n",
       "      <th>Age</th>\n",
       "      <th>Outcome</th>\n",
       "    </tr>\n",
       "  </thead>\n",
       "  <tbody>\n",
       "    <tr>\n",
       "      <th>0</th>\n",
       "      <td>466</td>\n",
       "      <td>0</td>\n",
       "      <td>74</td>\n",
       "      <td>52</td>\n",
       "      <td>10</td>\n",
       "      <td>36</td>\n",
       "      <td>27.8</td>\n",
       "      <td>0.269</td>\n",
       "      <td>22</td>\n",
       "      <td>0</td>\n",
       "    </tr>\n",
       "    <tr>\n",
       "      <th>1</th>\n",
       "      <td>719</td>\n",
       "      <td>5</td>\n",
       "      <td>97</td>\n",
       "      <td>76</td>\n",
       "      <td>27</td>\n",
       "      <td>0</td>\n",
       "      <td>35.6</td>\n",
       "      <td>0.378</td>\n",
       "      <td>52</td>\n",
       "      <td>1</td>\n",
       "    </tr>\n",
       "    <tr>\n",
       "      <th>2</th>\n",
       "      <td>319</td>\n",
       "      <td>6</td>\n",
       "      <td>194</td>\n",
       "      <td>78</td>\n",
       "      <td>0</td>\n",
       "      <td>0</td>\n",
       "      <td>23.5</td>\n",
       "      <td>0.129</td>\n",
       "      <td>59</td>\n",
       "      <td>1</td>\n",
       "    </tr>\n",
       "    <tr>\n",
       "      <th>3</th>\n",
       "      <td>402</td>\n",
       "      <td>5</td>\n",
       "      <td>136</td>\n",
       "      <td>84</td>\n",
       "      <td>41</td>\n",
       "      <td>88</td>\n",
       "      <td>35.0</td>\n",
       "      <td>0.286</td>\n",
       "      <td>35</td>\n",
       "      <td>1</td>\n",
       "    </tr>\n",
       "    <tr>\n",
       "      <th>4</th>\n",
       "      <td>752</td>\n",
       "      <td>3</td>\n",
       "      <td>108</td>\n",
       "      <td>62</td>\n",
       "      <td>24</td>\n",
       "      <td>0</td>\n",
       "      <td>26.0</td>\n",
       "      <td>0.223</td>\n",
       "      <td>25</td>\n",
       "      <td>0</td>\n",
       "    </tr>\n",
       "  </tbody>\n",
       "</table>\n",
       "</div>"
      ],
      "text/plain": [
       "   Unnamed: 0  Pregnancies  Glucose  BloodPressure  SkinThickness  Insulin  \\\n",
       "0         466            0       74             52             10       36   \n",
       "1         719            5       97             76             27        0   \n",
       "2         319            6      194             78              0        0   \n",
       "3         402            5      136             84             41       88   \n",
       "4         752            3      108             62             24        0   \n",
       "\n",
       "    BMI  DiabetesPedigreeFunction  Age  Outcome  \n",
       "0  27.8                     0.269   22        0  \n",
       "1  35.6                     0.378   52        1  \n",
       "2  23.5                     0.129   59        1  \n",
       "3  35.0                     0.286   35        1  \n",
       "4  26.0                     0.223   25        0  "
      ]
     },
     "execution_count": 7,
     "metadata": {},
     "output_type": "execute_result"
    }
   ],
   "source": [
    "import pandas as pd\n",
    "\n",
    "train_df = pd.read_csv(\"train.csv\")\n",
    "train_df.head()"
   ]
  },
  {
   "cell_type": "markdown",
   "id": "9cacc3f1",
   "metadata": {},
   "source": [
    "### 1.1. Feature and Label\n",
    "We will select coumns that will act as input ($x_1,x_1,..,x_N$) and output ($y_{actual}$)."
   ]
  },
  {
   "cell_type": "code",
   "execution_count": 8,
   "id": "708fdf90",
   "metadata": {
    "scrolled": true
   },
   "outputs": [
    {
     "data": {
      "text/plain": [
       "0    0\n",
       "1    1\n",
       "2    1\n",
       "3    1\n",
       "4    0\n",
       "Name: Outcome, dtype: int64"
      ]
     },
     "execution_count": 8,
     "metadata": {},
     "output_type": "execute_result"
    }
   ],
   "source": [
    "train_features = train_df[[\"Pregnancies\",\"Glucose\",\"BloodPressure\",\n",
    "                          \"SkinThickness\",\"Insulin\",\"BMI\",\n",
    "                           \"DiabetesPedigreeFunction\",\"Age\"]]\n",
    "\n",
    "train_labels = train_df[\"Outcome\"]\n",
    "\n",
    "train_features.head()\n",
    "train_labels.head()"
   ]
  },
  {
   "cell_type": "markdown",
   "id": "b31abfda",
   "metadata": {},
   "source": [
    "## 2. Defining and training Classifiers\n",
    "\n",
    "Let's define Logistic regression and Neural Network with default configurations. \n",
    "\n",
    "A neural network is also called as a MultiLayered Perceptron (MLP)"
   ]
  },
  {
   "cell_type": "code",
   "execution_count": 17,
   "id": "fcca8cf2",
   "metadata": {
    "scrolled": false
   },
   "outputs": [
    {
     "data": {
      "text/html": [
       "<style>#sk-container-id-1 {color: black;background-color: white;}#sk-container-id-1 pre{padding: 0;}#sk-container-id-1 div.sk-toggleable {background-color: white;}#sk-container-id-1 label.sk-toggleable__label {cursor: pointer;display: block;width: 100%;margin-bottom: 0;padding: 0.3em;box-sizing: border-box;text-align: center;}#sk-container-id-1 label.sk-toggleable__label-arrow:before {content: \"▸\";float: left;margin-right: 0.25em;color: #696969;}#sk-container-id-1 label.sk-toggleable__label-arrow:hover:before {color: black;}#sk-container-id-1 div.sk-estimator:hover label.sk-toggleable__label-arrow:before {color: black;}#sk-container-id-1 div.sk-toggleable__content {max-height: 0;max-width: 0;overflow: hidden;text-align: left;background-color: #f0f8ff;}#sk-container-id-1 div.sk-toggleable__content pre {margin: 0.2em;color: black;border-radius: 0.25em;background-color: #f0f8ff;}#sk-container-id-1 input.sk-toggleable__control:checked~div.sk-toggleable__content {max-height: 200px;max-width: 100%;overflow: auto;}#sk-container-id-1 input.sk-toggleable__control:checked~label.sk-toggleable__label-arrow:before {content: \"▾\";}#sk-container-id-1 div.sk-estimator input.sk-toggleable__control:checked~label.sk-toggleable__label {background-color: #d4ebff;}#sk-container-id-1 div.sk-label input.sk-toggleable__control:checked~label.sk-toggleable__label {background-color: #d4ebff;}#sk-container-id-1 input.sk-hidden--visually {border: 0;clip: rect(1px 1px 1px 1px);clip: rect(1px, 1px, 1px, 1px);height: 1px;margin: -1px;overflow: hidden;padding: 0;position: absolute;width: 1px;}#sk-container-id-1 div.sk-estimator {font-family: monospace;background-color: #f0f8ff;border: 1px dotted black;border-radius: 0.25em;box-sizing: border-box;margin-bottom: 0.5em;}#sk-container-id-1 div.sk-estimator:hover {background-color: #d4ebff;}#sk-container-id-1 div.sk-parallel-item::after {content: \"\";width: 100%;border-bottom: 1px solid gray;flex-grow: 1;}#sk-container-id-1 div.sk-label:hover label.sk-toggleable__label {background-color: #d4ebff;}#sk-container-id-1 div.sk-serial::before {content: \"\";position: absolute;border-left: 1px solid gray;box-sizing: border-box;top: 0;bottom: 0;left: 50%;z-index: 0;}#sk-container-id-1 div.sk-serial {display: flex;flex-direction: column;align-items: center;background-color: white;padding-right: 0.2em;padding-left: 0.2em;position: relative;}#sk-container-id-1 div.sk-item {position: relative;z-index: 1;}#sk-container-id-1 div.sk-parallel {display: flex;align-items: stretch;justify-content: center;background-color: white;position: relative;}#sk-container-id-1 div.sk-item::before, #sk-container-id-1 div.sk-parallel-item::before {content: \"\";position: absolute;border-left: 1px solid gray;box-sizing: border-box;top: 0;bottom: 0;left: 50%;z-index: -1;}#sk-container-id-1 div.sk-parallel-item {display: flex;flex-direction: column;z-index: 1;position: relative;background-color: white;}#sk-container-id-1 div.sk-parallel-item:first-child::after {align-self: flex-end;width: 50%;}#sk-container-id-1 div.sk-parallel-item:last-child::after {align-self: flex-start;width: 50%;}#sk-container-id-1 div.sk-parallel-item:only-child::after {width: 0;}#sk-container-id-1 div.sk-dashed-wrapped {border: 1px dashed gray;margin: 0 0.4em 0.5em 0.4em;box-sizing: border-box;padding-bottom: 0.4em;background-color: white;}#sk-container-id-1 div.sk-label label {font-family: monospace;font-weight: bold;display: inline-block;line-height: 1.2em;}#sk-container-id-1 div.sk-label-container {text-align: center;}#sk-container-id-1 div.sk-container {/* jupyter's `normalize.less` sets `[hidden] { display: none; }` but bootstrap.min.css set `[hidden] { display: none !important; }` so we also need the `!important` here to be able to override the default hidden behavior on the sphinx rendered scikit-learn.org. See: https://github.com/scikit-learn/scikit-learn/issues/21755 */display: inline-block !important;position: relative;}#sk-container-id-1 div.sk-text-repr-fallback {display: none;}</style><div id=\"sk-container-id-1\" class=\"sk-top-container\"><div class=\"sk-text-repr-fallback\"><pre>MLPClassifier(alpha=1e-05, hidden_layer_sizes=(8, 2), max_iter=10000,\n",
       "              random_state=11, solver=&#x27;lbfgs&#x27;)</pre><b>In a Jupyter environment, please rerun this cell to show the HTML representation or trust the notebook. <br />On GitHub, the HTML representation is unable to render, please try loading this page with nbviewer.org.</b></div><div class=\"sk-container\" hidden><div class=\"sk-item\"><div class=\"sk-estimator sk-toggleable\"><input class=\"sk-toggleable__control sk-hidden--visually\" id=\"sk-estimator-id-1\" type=\"checkbox\" checked><label for=\"sk-estimator-id-1\" class=\"sk-toggleable__label sk-toggleable__label-arrow\">MLPClassifier</label><div class=\"sk-toggleable__content\"><pre>MLPClassifier(alpha=1e-05, hidden_layer_sizes=(8, 2), max_iter=10000,\n",
       "              random_state=11, solver=&#x27;lbfgs&#x27;)</pre></div></div></div></div></div>"
      ],
      "text/plain": [
       "MLPClassifier(alpha=1e-05, hidden_layer_sizes=(8, 2), max_iter=10000,\n",
       "              random_state=11, solver='lbfgs')"
      ]
     },
     "execution_count": 17,
     "metadata": {},
     "output_type": "execute_result"
    }
   ],
   "source": [
    "# Now let's define our models\n",
    "from sklearn.linear_model import LogisticRegression\n",
    "from sklearn.neural_network import MLPClassifier\n",
    "\n",
    "\n",
    "lr_classifier = LogisticRegression(solver='lbfgs',max_iter=10000)\n",
    "mlp_classifier = MLPClassifier(solver='lbfgs', alpha=1e-5,\n",
    "                               hidden_layer_sizes=(8, 2), random_state=11,max_iter=10000)\n",
    "\n",
    "\n",
    "# train our models\n",
    "lr_classifier.fit(train_features.to_numpy(),train_labels.to_numpy())\n",
    "mlp_classifier.fit(train_features.to_numpy(),train_labels.to_numpy())"
   ]
  },
  {
   "cell_type": "markdown",
   "id": "768056c2",
   "metadata": {},
   "source": [
    "### 3. Evaluating our models' performance\n",
    "We define accuracy metric as follows:\n",
    "\n",
    "$$acc = \\frac{Number~of~times~predicted~class~=~actual~class}{Total~number~of~examples}$$"
   ]
  },
  {
   "cell_type": "code",
   "execution_count": 49,
   "id": "6bb53480",
   "metadata": {},
   "outputs": [
    {
     "name": "stdout",
     "output_type": "stream",
     "text": [
      "Accuracy of the Logistic Classifier = 0.7402597402597403\n",
      "Accuracy of the MLP Classifier = 0.6298701298701299\n"
     ]
    }
   ],
   "source": [
    "from sklearn.metrics import accuracy_score\n",
    "\n",
    "#load test data\n",
    "test_df = pd.read_csv(\"test.csv\")\n",
    "\n",
    "# Extract the input features\n",
    "test_inputs = test_df[[\"Glucose\",\"BloodPressure\",\n",
    "                        \"Insulin\",\"BMI\", \"Age\"]]\n",
    "\n",
    "y_actual = test_df[\"Outcome\"]\n",
    "\n",
    "# predict using logistic regression model\n",
    "y_predicted_lr = lr_classifier.predict(test_inputs.to_numpy())\n",
    "lr_accuracy_score = accuracy_score(y_predicted_lr,y_actual)\n",
    "\n",
    "# predict using logistic regression model\n",
    "y_predicted_mlp = mlp_classifier.predict(test_inputs.to_numpy())\n",
    "mlp_accuracy_score = accuracy_score(y_predicted_mlp,y_actual)\n",
    "\n",
    "print (f\"Accuracy of the Logistic Classifier = {lr_accuracy_score}\")\n",
    "print (f\"Accuracy of the MLP Classifier = {mlp_accuracy_score}\")\n",
    "\n",
    "\n",
    "#Original Numbers = 0.74675... (Logistic Classifier)\n",
    "# Original MLP classifer... = 0.6233766233"
   ]
  },
  {
   "cell_type": "markdown",
   "id": "1b76b8ca",
   "metadata": {},
   "source": [
    "### 3.1. Insights:\n",
    "For our dataset and configurations, we see that Logistic Regression models is 74.6% accurate on our test data. It is a better model than the Neural Network model"
   ]
  },
  {
   "cell_type": "markdown",
   "id": "4ed8eaaf",
   "metadata": {},
   "source": [
    "## 4. Saving our best model for future use\n",
    "\n",
    "We can store our best model on our hard drive and load it as and when we need it."
   ]
  },
  {
   "cell_type": "code",
   "execution_count": null,
   "id": "a006fbd5",
   "metadata": {},
   "outputs": [],
   "source": [
    "# Storing\n",
    "import pickle\n",
    "\n",
    "file_to_write = open(\"diabetes_best_model.saved\",\"wb\")\n",
    "pickle.dump(lr_classifier,file_to_write)\n",
    "file_to_write.close()"
   ]
  },
  {
   "cell_type": "markdown",
   "id": "eac96c06",
   "metadata": {},
   "source": [
    "## 5. Loading our best model and testing it"
   ]
  },
  {
   "cell_type": "code",
   "execution_count": null,
   "id": "bc8d4d32",
   "metadata": {},
   "outputs": [],
   "source": [
    "import pickle\n",
    "import numpy\n",
    "\n",
    "model_file = open(\"diabetes_best_model.saved\",\"rb\")\n",
    "model = pickle.load(model_file)\n",
    "model_file.close()\n",
    "\n",
    "# Let's prepare a sample input\n",
    "pregnancies = 1\n",
    "glucose = 200\n",
    "bp = 66\n",
    "skin_thickness = 20\n",
    "insulin = 95\n",
    "bmi = 32.9\n",
    "diabetes_pedigree = 0.6\n",
    "age = 28\n",
    "\n",
    "input_data =numpy.array([[pregnancies,glucose,bp,\n",
    "                        skin_thickness,insulin,bmi,\n",
    "                        diabetes_pedigree,age]]) \n",
    "\n",
    "y_predicted_lr = lr_classifier.predict(input_data)\n",
    "\n",
    "if y_predicted_lr[0]==1:\n",
    "    print (\"The person is likely to have diabetes in the near future\")\n",
    "if y_predicted_lr[0]==0:\n",
    "    print (\"The person will not have diabetes\")"
   ]
  },
  {
   "cell_type": "markdown",
   "id": "12616afd",
   "metadata": {},
   "source": [
    "## E1. Exercise: Let's work on a different set of features \"Age\" and repeat\n",
    "\n",
    "**Create a new Jupyter Notbook and do the following**\n",
    "\n",
    "Following the above hands-on, initialize and train Logistic Regression and MLP classifiers for predicting diabetes using the following columns:\n",
    "\n",
    "**Feature Columns (Input):**\n",
    "- Glucose: Plasma glucose concentration a 2 hours in an oral glucose tolerance test\n",
    "- BloodPressure: Diastolic blood pressure (mm Hg)\n",
    "- Insulin: 2-Hour serum insulin (mu U/ml)\n",
    "- BMI: Body mass index (weight in kg/(height in m)^2)\n",
    "- Age: Age (years)\n",
    "\n",
    "**Label (Output):**\n",
    "- Outcome: Class variable (0 or 1)\n",
    "\n",
    "What accuracy figures are you getting for the two classifiers? Are they very different from the accuracy figures we for in Section 3 above? Write down in a markdown block."
   ]
  },
  {
   "cell_type": "code",
   "execution_count": 47,
   "id": "c1c7a3d3",
   "metadata": {},
   "outputs": [
    {
     "data": {
      "text/plain": [
       "0    0\n",
       "1    1\n",
       "2    1\n",
       "3    1\n",
       "4    0\n",
       "Name: Outcome, dtype: int64"
      ]
     },
     "execution_count": 47,
     "metadata": {},
     "output_type": "execute_result"
    }
   ],
   "source": [
    "train_features = train_df[[\"Glucose\",\"BloodPressure\", \"Insulin\",\"BMI\",\"Age\"]]\n",
    "\n",
    "train_labels = train_df[\"Outcome\"]\n",
    "\n",
    "train_features.head()\n",
    "train_labels.head()"
   ]
  },
  {
   "cell_type": "code",
   "execution_count": 20,
   "id": "2261bce8",
   "metadata": {},
   "outputs": [
    {
     "data": {
      "text/html": [
       "<style>#sk-container-id-3 {color: black;background-color: white;}#sk-container-id-3 pre{padding: 0;}#sk-container-id-3 div.sk-toggleable {background-color: white;}#sk-container-id-3 label.sk-toggleable__label {cursor: pointer;display: block;width: 100%;margin-bottom: 0;padding: 0.3em;box-sizing: border-box;text-align: center;}#sk-container-id-3 label.sk-toggleable__label-arrow:before {content: \"▸\";float: left;margin-right: 0.25em;color: #696969;}#sk-container-id-3 label.sk-toggleable__label-arrow:hover:before {color: black;}#sk-container-id-3 div.sk-estimator:hover label.sk-toggleable__label-arrow:before {color: black;}#sk-container-id-3 div.sk-toggleable__content {max-height: 0;max-width: 0;overflow: hidden;text-align: left;background-color: #f0f8ff;}#sk-container-id-3 div.sk-toggleable__content pre {margin: 0.2em;color: black;border-radius: 0.25em;background-color: #f0f8ff;}#sk-container-id-3 input.sk-toggleable__control:checked~div.sk-toggleable__content {max-height: 200px;max-width: 100%;overflow: auto;}#sk-container-id-3 input.sk-toggleable__control:checked~label.sk-toggleable__label-arrow:before {content: \"▾\";}#sk-container-id-3 div.sk-estimator input.sk-toggleable__control:checked~label.sk-toggleable__label {background-color: #d4ebff;}#sk-container-id-3 div.sk-label input.sk-toggleable__control:checked~label.sk-toggleable__label {background-color: #d4ebff;}#sk-container-id-3 input.sk-hidden--visually {border: 0;clip: rect(1px 1px 1px 1px);clip: rect(1px, 1px, 1px, 1px);height: 1px;margin: -1px;overflow: hidden;padding: 0;position: absolute;width: 1px;}#sk-container-id-3 div.sk-estimator {font-family: monospace;background-color: #f0f8ff;border: 1px dotted black;border-radius: 0.25em;box-sizing: border-box;margin-bottom: 0.5em;}#sk-container-id-3 div.sk-estimator:hover {background-color: #d4ebff;}#sk-container-id-3 div.sk-parallel-item::after {content: \"\";width: 100%;border-bottom: 1px solid gray;flex-grow: 1;}#sk-container-id-3 div.sk-label:hover label.sk-toggleable__label {background-color: #d4ebff;}#sk-container-id-3 div.sk-serial::before {content: \"\";position: absolute;border-left: 1px solid gray;box-sizing: border-box;top: 0;bottom: 0;left: 50%;z-index: 0;}#sk-container-id-3 div.sk-serial {display: flex;flex-direction: column;align-items: center;background-color: white;padding-right: 0.2em;padding-left: 0.2em;position: relative;}#sk-container-id-3 div.sk-item {position: relative;z-index: 1;}#sk-container-id-3 div.sk-parallel {display: flex;align-items: stretch;justify-content: center;background-color: white;position: relative;}#sk-container-id-3 div.sk-item::before, #sk-container-id-3 div.sk-parallel-item::before {content: \"\";position: absolute;border-left: 1px solid gray;box-sizing: border-box;top: 0;bottom: 0;left: 50%;z-index: -1;}#sk-container-id-3 div.sk-parallel-item {display: flex;flex-direction: column;z-index: 1;position: relative;background-color: white;}#sk-container-id-3 div.sk-parallel-item:first-child::after {align-self: flex-end;width: 50%;}#sk-container-id-3 div.sk-parallel-item:last-child::after {align-self: flex-start;width: 50%;}#sk-container-id-3 div.sk-parallel-item:only-child::after {width: 0;}#sk-container-id-3 div.sk-dashed-wrapped {border: 1px dashed gray;margin: 0 0.4em 0.5em 0.4em;box-sizing: border-box;padding-bottom: 0.4em;background-color: white;}#sk-container-id-3 div.sk-label label {font-family: monospace;font-weight: bold;display: inline-block;line-height: 1.2em;}#sk-container-id-3 div.sk-label-container {text-align: center;}#sk-container-id-3 div.sk-container {/* jupyter's `normalize.less` sets `[hidden] { display: none; }` but bootstrap.min.css set `[hidden] { display: none !important; }` so we also need the `!important` here to be able to override the default hidden behavior on the sphinx rendered scikit-learn.org. See: https://github.com/scikit-learn/scikit-learn/issues/21755 */display: inline-block !important;position: relative;}#sk-container-id-3 div.sk-text-repr-fallback {display: none;}</style><div id=\"sk-container-id-3\" class=\"sk-top-container\"><div class=\"sk-text-repr-fallback\"><pre>MLPClassifier(alpha=1e-05, hidden_layer_sizes=(8, 2), max_iter=10000,\n",
       "              random_state=11, solver=&#x27;lbfgs&#x27;)</pre><b>In a Jupyter environment, please rerun this cell to show the HTML representation or trust the notebook. <br />On GitHub, the HTML representation is unable to render, please try loading this page with nbviewer.org.</b></div><div class=\"sk-container\" hidden><div class=\"sk-item\"><div class=\"sk-estimator sk-toggleable\"><input class=\"sk-toggleable__control sk-hidden--visually\" id=\"sk-estimator-id-3\" type=\"checkbox\" checked><label for=\"sk-estimator-id-3\" class=\"sk-toggleable__label sk-toggleable__label-arrow\">MLPClassifier</label><div class=\"sk-toggleable__content\"><pre>MLPClassifier(alpha=1e-05, hidden_layer_sizes=(8, 2), max_iter=10000,\n",
       "              random_state=11, solver=&#x27;lbfgs&#x27;)</pre></div></div></div></div></div>"
      ],
      "text/plain": [
       "MLPClassifier(alpha=1e-05, hidden_layer_sizes=(8, 2), max_iter=10000,\n",
       "              random_state=11, solver='lbfgs')"
      ]
     },
     "execution_count": 20,
     "metadata": {},
     "output_type": "execute_result"
    }
   ],
   "source": [
    "# Now let's define our models\n",
    "from sklearn.linear_model import LogisticRegression\n",
    "from sklearn.neural_network import MLPClassifier\n",
    "\n",
    "\n",
    "lr_classifier = LogisticRegression(solver='lbfgs',max_iter=10000)\n",
    "mlp_classifier = MLPClassifier(solver='lbfgs', alpha=1e-5,\n",
    "                               hidden_layer_sizes=(8, 2), random_state=11,max_iter=10000)\n",
    "\n",
    "\n",
    "# train our models\n",
    "lr_classifier.fit(train_features.to_numpy(),train_labels.to_numpy())\n",
    "mlp_classifier.fit(train_features.to_numpy(),train_labels.to_numpy())"
   ]
  },
  {
   "cell_type": "code",
   "execution_count": 35,
   "id": "9b3fecaa",
   "metadata": {},
   "outputs": [
    {
     "name": "stdout",
     "output_type": "stream",
     "text": [
      "Accuracy of the Logistic Classifier = 0.7402597402597403\n",
      "Accuracy of the MLP Classifier = 0.6298701298701299\n"
     ]
    }
   ],
   "source": [
    "from sklearn.metrics import accuracy_score\n",
    "\n",
    "#load test data\n",
    "test_df = pd.read_csv(\"test.csv\")\n",
    "\n",
    "# Extract the input features\n",
    "test_inputs = test_df[[\"Glucose\",\"BloodPressure\", \"Insulin\",\"BMI\",\"Age\"]]\n",
    "\n",
    "y_actual = test_df[\"Outcome\"]\n",
    "\n",
    "# predict using logistic regression model\n",
    "y_predicted_lr = lr_classifier.predict(test_inputs.to_numpy())\n",
    "lr_accuracy_score = accuracy_score(y_predicted_lr,y_actual)\n",
    "\n",
    "# predict using logistic regression model\n",
    "y_predicted_mlp = mlp_classifier.predict(test_inputs.to_numpy())\n",
    "mlp_accuracy_score = accuracy_score(y_predicted_mlp,y_actual)\n",
    "\n",
    "print (f\"Accuracy of the Logistic Classifier = {lr_accuracy_score}\")\n",
    "print (f\"Accuracy of the MLP Classifier = {mlp_accuracy_score}\")\n",
    "\n",
    "# Original Numbers = 0.74675... (Logistic Classifier)\n",
    "# Original MLP classifer... = 0.6233766233"
   ]
  },
  {
   "cell_type": "markdown",
   "id": "dc525f92",
   "metadata": {},
   "source": [
    "# Since we took out three factors from the original data, the accuracy of each classifier went down my a marginal amount. I am sure if we took out either glucose or insulin levels the accuracy would keep going down."
   ]
  },
  {
   "cell_type": "code",
   "execution_count": null,
   "id": "ffb04d5f",
   "metadata": {},
   "outputs": [],
   "source": [
    "# Storing\n",
    "import pickle\n",
    "\n",
    "file_to_write = open(\"diabetes_best_model.saved\",\"wb\")\n",
    "pickle.dump(lr_classifier,file_to_write)\n",
    "file_to_write.close()"
   ]
  },
  {
   "cell_type": "code",
   "execution_count": 45,
   "id": "8a973b58",
   "metadata": {},
   "outputs": [
    {
     "name": "stdout",
     "output_type": "stream",
     "text": [
      "The person will not have diabetes\n"
     ]
    }
   ],
   "source": [
    "import pickle\n",
    "import numpy\n",
    "\n",
    "model_file = open(\"diabetes_best_model.saved\",\"rb\")\n",
    "model = pickle.load(model_file)\n",
    "model_file.close()\n",
    "\n",
    "# Let's prepare a sample input\n",
    "glucose = 60\n",
    "bp = 120\n",
    "insulin = 25\n",
    "bmi = 68\n",
    "age = 20\n",
    "\n",
    "input_data =numpy.array([[glucose, bp, insulin, bmi, age]]) \n",
    "\n",
    "y_predicted_lr = lr_classifier.predict(input_data)\n",
    "\n",
    "if y_predicted_lr[0]==1:\n",
    "    print (\"The person is likely to have diabetes in the near future\")\n",
    "if y_predicted_lr[0]==0:\n",
    "    print (\"The person will not have diabetes\")"
   ]
  }
 ],
 "metadata": {
  "kernelspec": {
   "display_name": "Python 3 (ipykernel)",
   "language": "python",
   "name": "python3"
  },
  "language_info": {
   "codemirror_mode": {
    "name": "ipython",
    "version": 3
   },
   "file_extension": ".py",
   "mimetype": "text/x-python",
   "name": "python",
   "nbconvert_exporter": "python",
   "pygments_lexer": "ipython3",
   "version": "3.8.16"
  }
 },
 "nbformat": 4,
 "nbformat_minor": 5
}
